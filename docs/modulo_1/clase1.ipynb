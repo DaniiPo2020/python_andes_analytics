{
 "cells": [
  {
   "cell_type": "markdown",
   "id": "a1a83c2d",
   "metadata": {},
   "source": [
    "[![](http://colab.research.google.com/assets/colab-badge.svg)](https://drive.google.com/file/d/1p_lU6QOuDreo17Yrzc1Ttyrc1uDbs9xg/view?usp=drive_link)"
   ]
  },
  {
   "cell_type": "markdown",
   "id": "4f746bb4",
   "metadata": {},
   "source": [
    "## Clase 1: Conociendo Python\n",
    "<p align=\"center\">\n",
    "<img src=\"https://github.com/hizocar/hizocar.github.io/blob/main/introduction_to_python/images/cat_class1.png?raw=1\" width=\"50%\" height=\"50%\">\n",
    "</p>\n"
   ]
  },
  {
   "cell_type": "markdown",
   "id": "fc30262e",
   "metadata": {},
   "source": [
    "Python es un lenguaje de programación de alto nivel e interpretado, conocido por su legibilidad y simplicidad. Soporta múltiples paradigmas de programación, incluyendo la programación procedimental, orientada a objetos y funcional. Python se utiliza ampliamente en análisis de datos, desarrollo web, aprendizaje automático e inteligencia artificial. Su amplio soporte de bibliotecas y una vibrante comunidad lo hacen una opción popular tanto para principiantes como para desarrolladores experimentados."
   ]
  },
  {
   "cell_type": "markdown",
   "id": "d661e0cb",
   "metadata": {},
   "source": [
    "[![](http://colab.research.google.com/assets/colab-badge.svg)](https://drive.google.com/file/d/1p_lU6QOuDreo17Yrzc1Ttyrc1uDbs9xg/view?usp=drive_link)"
   ]
  },
  {
   "cell_type": "markdown",
   "id": "ef816e27",
   "metadata": {},
   "source": [
    "## Class 1: Getting to Know Python\n",
    "<p align=\"center\">\n",
    "<img src=\"https://github.com/hizocar/hizocar.github.io/blob/main/introduction_to_python/images/cat_class1.png?raw=1\" width=\"50%\" height=\"50%\">\n",
    "</p>\n"
   ]
  },
  {
   "cell_type": "markdown",
   "id": "ad0b1cc9",
   "metadata": {},
   "source": [
    "Python is a high-level, interpreted programming language known for its readability and simplicity. It supports multiple programming paradigms, including procedural, object-oriented, and functional programming. Python is widely used in data analysis, web development, machine learning, and artificial intelligence. Its extensive library support and vibrant community make it a popular choice for both beginners and experienced developers."
   ]
  },
  {
   "cell_type": "markdown",
   "id": "90800dc2",
   "metadata": {},
   "source": [
    "Here is a simple example of Python code that takes an input and produces an output:"
   ]
  },
  {
   "cell_type": "markdown",
   "id": "9d4027ca",
   "metadata": {},
   "source": [
    "## Data Types in Python"
   ]
  },
  {
   "cell_type": "markdown",
   "id": "88c9db3e",
   "metadata": {},
   "source": [
    "Python has several built-in data types. Here are some of the most common ones:\n",
    "\n",
    "- **Integers (`int`):** Whole numbers, such as 3, 4, or 100.\n",
    "- **Floating point numbers (`float`):** Numbers with a decimal point, such as 2.3 or 4.6.\n",
    "- **Strings (`str`):** Sequences of characters, such as 'hello' or 'python'.\n",
    "- **Booleans (`bool`):** True or false values.\n",
    "\n",
    "Let's see some examples:"
   ]
  },
  {
   "cell_type": "markdown",
   "id": "b6728845",
   "metadata": {},
   "source": [
    "## Lists in Python"
   ]
  },
  {
   "cell_type": "markdown",
   "id": "2dfda97b",
   "metadata": {},
   "source": [
    "A list in Python is an ordered collection of items that can be of any type. Lists are very flexible and can be modified after they are created (they are mutable).\n",
    "\n",
    "Here is an example of a list:"
   ]
  },
  {
   "cell_type": "markdown",
   "id": "5a6bc7db",
   "metadata": {},
   "source": [
    "## Dictionaries in Python"
   ]
  },
  {
   "cell_type": "markdown",
   "id": "d6784d15",
   "metadata": {},
   "source": [
    "A dictionary in Python is an unordered collection of items. Each item in a dictionary has a key and a corresponding value. Dictionaries are mutable, meaning they can be changed after they are created.\n",
    "\n",
    "Here is an example of a dictionary:"
   ]
  },
  {
   "cell_type": "markdown",
   "id": "d0634bbe",
   "metadata": {},
   "source": [
    "## Comparing Lists and Dictionaries"
   ]
  },
  {
   "cell_type": "markdown",
   "id": "80371004",
   "metadata": {},
   "source": [
    "Lists and dictionaries are both versatile data structures in Python, but they are used in different scenarios.\n",
    "\n",
    "**Lists** are ordered collections of items, and they are best when the order of items matters. You can use lists when you have a collection of items that you want to keep in a specific order, or when you want to easily add or remove items from the collection.\n",
    "\n",
    "**Dictionaries** are unordered collections of key-value pairs, and they are best when you need to associate values with keys, so you can look them up efficiently by key. Dictionaries are ideal for data that is labeled, where each item can be accessed by a unique key (like a product code or name).\n",
    "\n",
    "Let's see some examples:"
   ]
  },
  {
   "cell_type": "markdown",
   "id": "488cfeae",
   "metadata": {},
   "source": [
    "It is possible to convert a list to a dictionary and vice versa, but the way you do it depends on the structure of your data.\n",
    "\n",
    "For example, if you have a list of pairs, you can convert it to a dictionary using the `dict()` function. And if you have a dictionary, you can convert it to a list of pairs using the `items()` method.\n",
    "\n",
    "Let's see some examples:"
   ]
  },
  {
   "cell_type": "markdown",
   "id": "b31103dd",
   "metadata": {},
   "source": [
    "## Operations and Methods in Python"
   ]
  },
  {
   "cell_type": "markdown",
   "id": "d6f5007a",
   "metadata": {},
   "source": [
    "In Python, an **operation** is an action that is carried out on one or more values. For example, the `+` operation adds two numbers together, and the `*` operation multiplies them.\n",
    "\n",
    "A **method** is a function that is associated with a particular type of object. For example, the `count` method can be used on a list to count the number of times a particular value appears in the list, and the `upper` method can be used on a string to convert all the characters to uppercase.\n",
    "\n",
    "The `len` function is a built-in Python function that returns the length of a sequence, such as a list or a string.\n",
    "\n",
    "Let's see some examples:"
   ]
  },
  {
   "cell_type": "markdown",
   "id": "12dca7a2",
   "metadata": {},
   "source": [
    "## Combining Different Data Types with + and *"
   ]
  },
  {
   "cell_type": "markdown",
   "id": "731c4ad9",
   "metadata": {},
   "source": [
    "In Python, the `+` and `*` operators can be used with different types of data, but the behavior can be different depending on the types of the operands.\n",
    "\n",
    "When used with integers (`int`), the `+` operator performs addition and the `*` operator performs multiplication.\n",
    "\n",
    "When used with strings (`str`), the `+` operator concatenates the strings, and the `*` operator repeats the string a certain number of times.\n",
    "\n",
    "However, trying to use `+` or `*` with an integer and a string will result in a `TypeError`.\n",
    "\n",
    "Let's see some examples:"
   ]
  },
  {
   "cell_type": "markdown",
   "id": "077e5fde",
   "metadata": {},
   "source": [
    "## Libraries in Python"
   ]
  },
  {
   "cell_type": "markdown",
   "id": "7988d741",
   "metadata": {},
   "source": [
    "In Python, a **library** is a collection of modules, which are files containing Python code that define functions, classes, and variables that you can use once the module is imported.\n",
    "\n",
    "Python comes with a standard library that includes many useful modules, and there are also many third-party libraries available that provide additional functionality.\n",
    "\n",
    "You can import a module using the `import` statement. Once a module is imported, you can use its functions and variables by prefixing them with the module name and a dot.\n",
    "\n",
    "If a library is not installed, you can install it using the `pip` tool, which is the package installer for Python.\n",
    "\n",
    "Let's see some examples:"
   ]
  },
  {
   "cell_type": "markdown",
   "id": "2229acad",
   "metadata": {},
   "source": [
    "If you only need a specific function from a module, you can import just that function using the `from ... import ...` statement. This allows you to use the function directly without prefixing it with the module name.\n",
    "\n",
    "Let's see an example:"
   ]
  },
  {
   "cell_type": "markdown",
   "id": "7286bf69",
   "metadata": {},
   "source": [
    "## Google Colab"
   ]
  },
  {
   "cell_type": "markdown",
   "id": "b29fa0b6",
   "metadata": {},
   "source": [
    "[Google Colab](https://colab.research.google.com/) is a cloud-based Python development environment that provides a platform for anyone to write and execute Python code through the browser. It is especially useful for machine learning, data analysis, and education.\n",
    "\n",
    "### Advantages\n",
    "- No setup required\n",
    "- Free access to GPUs\n",
    "- Easy sharing\n",
    "\n",
    "Whether you're a student, a data scientist, or an AI researcher, Colab can make your work easier. You can write and execute code, save and share your analyses, and access powerful computing resources, all for free from your browser.\n",
    "\n",
    "### Disadvantages\n",
    "- Internet connection is required\n",
    "- Limited resources\n",
    "\n",
    "Despite its advantages, Google Colab does have some limitations. It requires an internet connection to save and run notebooks, and the available resources (RAM and disk space) are limited.\n",
    "\n",
    "To start a new notebook in Google Colab, you can follow this [link](https://colab.research.google.com/#create=true)."
   ]
  },
  {
   "cell_type": "markdown",
   "id": "fe567075",
   "metadata": {},
   "source": [
    "## Exercises"
   ]
  },
  {
   "cell_type": "markdown",
   "id": "e98c6933",
   "metadata": {},
   "source": [
    "1. **Data Types**: Write a Python function that takes two inputs, determines their data types, and returns a message indicating the data type of each input.\n",
    "\n",
    "2. **List Operations**: Given a list of numbers, write a Python function that returns a new list containing the square of each number. Use a loop in your solution.\n",
    "\n",
    "3. **Dictionary Operations**: Write a Python function that takes a dictionary and a key as input, checks if the key is in the dictionary, and returns a message indicating whether the key was found.\n",
    "\n",
    "4. **String Methods**: Write a Python function that takes a string as input and returns a new string with the first letter of each word capitalized.\n",
    "\n",
    "5. **Library Usage**: Use the `math` library to write a Python function that takes a number as input and returns the square root of the number."
   ]
  }
 ],
 "metadata": {},
 "nbformat": 4,
 "nbformat_minor": 5
}
