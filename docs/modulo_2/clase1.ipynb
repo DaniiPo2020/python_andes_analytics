{
 "cells": [
  {
   "attachments": {},
   "cell_type": "markdown",
   "metadata": {},
   "source": [
    "# Clase 1: Listas y Tuplas, Diccionarios y Conjuntos"
   ]
  },
  {
   "attachments": {},
   "cell_type": "markdown",
   "metadata": {},
   "source": [
    "Python proporciona dos tipos de estructuras de datos muy útiles y versátiles: las listas y las tuplas. Ambas permiten almacenar una colección de elementos, pero tienen algunas diferencias clave."
   ]
  },
  {
   "attachments": {},
   "cell_type": "markdown",
   "metadata": {},
   "source": [
    "## Listas\n",
    "Las listas en Python son colecciones ordenadas y modificables de elementos. Pueden contener cualquier tipo de dato, como números, cadenas y hasta otras listas.\n",
    "\n",
    "### Creación de Listas\n",
    "Para crear una lista, coloca todos los elementos entre corchetes [], separados por comas."
   ]
  },
  {
   "cell_type": "code",
   "execution_count": 1,
   "metadata": {},
   "outputs": [],
   "source": [
    "mi_lista = [1, 2, 3]\n",
    "lista_de_cadenas = [\"manzana\", \"banana\", \"cereza\"]"
   ]
  },
  {
   "attachments": {},
   "cell_type": "markdown",
   "metadata": {},
   "source": [
    "### Manipulación de Listas\n",
    "Las listas son mutables, lo que significa que puedes cambiar, añadir y eliminar elementos después de que la lista ha sido creada."
   ]
  },
  {
   "attachments": {},
   "cell_type": "markdown",
   "metadata": {},
   "source": [
    "**append():** Añade un elemento al final de la lista."
   ]
  },
  {
   "cell_type": "code",
   "execution_count": null,
   "metadata": {},
   "outputs": [],
   "source": [
    "mi_lista.append(4)"
   ]
  },
  {
   "attachments": {},
   "cell_type": "markdown",
   "metadata": {},
   "source": [
    "**insert():** Añade un elemento en una posición específica"
   ]
  },
  {
   "cell_type": "code",
   "execution_count": 2,
   "metadata": {},
   "outputs": [],
   "source": [
    "mi_lista.insert(1, 'a')"
   ]
  },
  {
   "attachments": {},
   "cell_type": "markdown",
   "metadata": {},
   "source": [
    "**remove():** Elimina el primer elemento con el valor especificado"
   ]
  },
  {
   "cell_type": "code",
   "execution_count": 3,
   "metadata": {},
   "outputs": [],
   "source": [
    "mi_lista.remove('a')"
   ]
  },
  {
   "attachments": {},
   "cell_type": "markdown",
   "metadata": {},
   "source": [
    "**pop():** Elimina el elemento en la posición dada (por defecto, el último elemento)"
   ]
  },
  {
   "cell_type": "code",
   "execution_count": 4,
   "metadata": {},
   "outputs": [
    {
     "data": {
      "text/plain": [
       "3"
      ]
     },
     "execution_count": 4,
     "metadata": {},
     "output_type": "execute_result"
    }
   ],
   "source": [
    "mi_lista.pop()\n"
   ]
  },
  {
   "attachments": {},
   "cell_type": "markdown",
   "metadata": {},
   "source": [
    "**clear():** Elimina todos los elementos de la lista"
   ]
  },
  {
   "cell_type": "code",
   "execution_count": 5,
   "metadata": {},
   "outputs": [],
   "source": [
    "mi_lista.clear()"
   ]
  },
  {
   "attachments": {},
   "cell_type": "markdown",
   "metadata": {},
   "source": [
    "### Otros Métodos\n",
    "- index(): Retorna el índice del primer elemento con el valor especificado.\n",
    "- count(): Retorna el número de elementos con el valor especificado.\n",
    "- sort(): Ordena la lista.\n",
    "- reverse(): Invierte el orden de los elementos de la lista."
   ]
  },
  {
   "attachments": {},
   "cell_type": "markdown",
   "metadata": {},
   "source": [
    "## Tuplas\n",
    "Las tuplas son colecciones similares a las listas, pero inmutables. Esto significa que, una vez creadas, no puedes cambiar sus elementos.\n",
    "\n",
    "### Creación de Tuplas\n",
    "Para crear una tupla, coloca los elementos entre paréntesis ()."
   ]
  },
  {
   "cell_type": "code",
   "execution_count": 6,
   "metadata": {},
   "outputs": [],
   "source": [
    "mi_tupla = (1, 2, 3)\n",
    "tupla_de_cadenas = (\"manzana\", \"banana\", \"cereza\")"
   ]
  },
  {
   "attachments": {},
   "cell_type": "markdown",
   "metadata": {},
   "source": [
    "### Manipulación de Tuplas\n",
    "Debido a que las tuplas son inmutables, sus elementos no pueden ser modificados, añadidos o eliminados después de la creación. Sin embargo, puedes realizar otras operaciones:\n",
    "\n",
    "- index(): Obtiene el índice de un elemento.\n",
    "- count(): Cuenta cuántas veces aparece un elemento en la tupla."
   ]
  },
  {
   "attachments": {},
   "cell_type": "markdown",
   "metadata": {},
   "source": [
    "### Conversión entre Listas y Tuplas\n",
    "Puedes convertir listas en tuplas y viceversa utilizando los constructores list() y tuple()."
   ]
  },
  {
   "cell_type": "code",
   "execution_count": 7,
   "metadata": {},
   "outputs": [],
   "source": [
    "# Lista a Tupla\n",
    "lista = [1, 2, 3]\n",
    "tupla = tuple(lista)\n",
    "\n",
    "# Tupla a Lista\n",
    "tupla = (1, 2, 3)\n",
    "lista = list(tupla)"
   ]
  },
  {
   "attachments": {},
   "cell_type": "markdown",
   "metadata": {},
   "source": [
    "## Ejercicio: Análisis de Cartera de Seguros\n",
    "Supongamos que trabajas en el departamento actuarial de una compañía de seguros. Se te ha pedido realizar un análisis preliminar de una pequeña cartera de seguros de vida. La información que tienes es una lista de pólizas, donde cada póliza contiene una tupla con la siguiente información: (ID de póliza, edad del asegurado, monto asegurado).\n",
    "\n",
    "### Tu tarea es:\n",
    "\n",
    "- Calcular el monto asegurado total.\n",
    "- Encontrar la edad promedio de los asegurados.\n",
    "- Identificar la póliza con el mayor monto asegurado y mostrar su ID."
   ]
  },
  {
   "cell_type": "code",
   "execution_count": 8,
   "metadata": {},
   "outputs": [],
   "source": [
    "cartera = [\n",
    "    (\"A001\", 30, 100000),\n",
    "    (\"A002\", 45, 250000),\n",
    "    (\"A003\", 22, 150000),\n",
    "    (\"A004\", 28, 200000),\n",
    "    (\"A005\", 50, 300000)\n",
    "]"
   ]
  },
  {
   "cell_type": "code",
   "execution_count": 9,
   "metadata": {},
   "outputs": [
    {
     "name": "stdout",
     "output_type": "stream",
     "text": [
      "Monto asegurado total: 1000000\n",
      "Edad promedio: 35.0\n",
      "ID de póliza con mayor monto asegurado: A005 (Monto: 300000)\n"
     ]
    }
   ],
   "source": [
    "total_monto_asegurado = 0\n",
    "total_edades = 0\n",
    "max_monto_asegurado = 0\n",
    "id_max_monto = \"\"\n",
    "\n",
    "# Procesamos cada póliza en la cartera\n",
    "for poliza in cartera:\n",
    "    id_poliza, edad, monto_asegurado = poliza\n",
    "\n",
    "    # Acumulamos el monto asegurado y las edades\n",
    "    total_monto_asegurado += monto_asegurado\n",
    "    total_edades += edad\n",
    "\n",
    "    # Verificamos si esta póliza tiene el monto asegurado más alto\n",
    "    if monto_asegurado > max_monto_asegurado:\n",
    "        max_monto_asegurado = monto_asegurado\n",
    "        id_max_monto = id_poliza\n",
    "\n",
    "# Calculamos el promedio de edad\n",
    "promedio_edad = total_edades / len(cartera)\n",
    "\n",
    "# Resultados\n",
    "print(f\"Monto asegurado total: {total_monto_asegurado}\")\n",
    "print(f\"Edad promedio: {promedio_edad}\")\n",
    "print(f\"ID de póliza con mayor monto asegurado: {id_max_monto} (Monto: {max_monto_asegurado})\")"
   ]
  },
  {
   "cell_type": "code",
   "execution_count": null,
   "metadata": {},
   "outputs": [],
   "source": []
  }
 ],
 "metadata": {
  "kernelspec": {
   "display_name": "Python 3",
   "language": "python",
   "name": "python3"
  },
  "language_info": {
   "codemirror_mode": {
    "name": "ipython",
    "version": 3
   },
   "file_extension": ".py",
   "mimetype": "text/x-python",
   "name": "python",
   "nbconvert_exporter": "python",
   "pygments_lexer": "ipython3",
   "version": "3.8.9"
  },
  "orig_nbformat": 4
 },
 "nbformat": 4,
 "nbformat_minor": 2
}
