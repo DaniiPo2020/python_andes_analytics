{
 "cells": [
  {
   "attachments": {},
   "cell_type": "markdown",
   "metadata": {},
   "source": [
    "# Clase 2: Manejo de archivos"
   ]
  },
  {
   "attachments": {},
   "cell_type": "markdown",
   "metadata": {},
   "source": [
    "## Lectura de Archivos\n",
    "Abrir un archivo: Usas open(filename, mode) donde filename es el nombre del archivo y mode es 'r' para lectura. Por ejemplo: file = open('example.txt', 'r').\n",
    "\n",
    "### Leer el contenido: Hay varias maneras de leer el contenido:\n",
    "\n",
    "- file.read(): Lee el contenido completo del archivo.\n",
    "- file.readline(): Lee una línea cada vez.\n",
    "- file.readlines(): Lee todas las líneas y las devuelve como una lista.\n",
    "- Cerrar el archivo: Siempre debes cerrar el archivo después de leerlo usando file.close()."
   ]
  },
  {
   "cell_type": "code",
   "execution_count": null,
   "metadata": {},
   "outputs": [],
   "source": [
    "# Abrir el archivo en modo de lectura\n",
    "with open('example.txt', 'r') as file:\n",
    "    content = file.read()\n",
    "    print(content)"
   ]
  },
  {
   "attachments": {},
   "cell_type": "markdown",
   "metadata": {},
   "source": [
    "## Escritura de Archivos\n",
    "Abrir un archivo: Para escribir, usas open(filename, mode) donde mode es 'w' para escritura. Si el archivo no existe, se crea. \n",
    "Por ejemplo: file = open('example.txt', 'w').\n",
    "\n",
    "### Escribir en el archivo: \n",
    "Utiliza file.write(texto) para escribir en el archivo.\n",
    "\n",
    "- Cerrar el archivo: No olvides cerrar el archivo con file.close() después de escribir."
   ]
  },
  {
   "cell_type": "code",
   "execution_count": null,
   "metadata": {},
   "outputs": [],
   "source": [
    "# Abrir el archivo en modo de escritura\n",
    "with open('example.txt', 'w') as file:\n",
    "    file.write('Hola, mundo!')"
   ]
  },
  {
   "attachments": {},
   "cell_type": "markdown",
   "metadata": {},
   "source": [
    "## Uso del with\n",
    "En los ejemplos anteriores, he utilizado la declaración with para manejar el archivo. Esto es una práctica recomendada porque se encarga de cerrar el archivo automáticamente después de salir del bloque with, incluso si ocurre una excepción.\n",
    "\n",
    "## Modos Adicionales\n",
    "- 'a': Modo de anexar. Si el archivo existe, coloca el puntero al final del archivo. Si no existe, crea un nuevo archivo para escritura.\n",
    "- 'r+': Modo de lectura y escritura. El archivo debe existir.\n",
    "- 'b': Se añade a otros modos para manejar archivos binarios (ej: 'rb', 'wb').\n",
    "## Manejo de Excepciones\n",
    "Es buena práctica manejar excepciones al trabajar con archivos para evitar errores en tiempo de ejecución. Puedes usar bloques try-except para esto."
   ]
  },
  {
   "cell_type": "code",
   "execution_count": null,
   "metadata": {},
   "outputs": [],
   "source": [
    "try:\n",
    "    with open('non_existent_file.txt', 'r') as file:\n",
    "        content = file.read()\n",
    "except FileNotFoundError:\n",
    "    print(\"El archivo no existe\")"
   ]
  }
 ],
 "metadata": {
  "language_info": {
   "name": "python"
  },
  "orig_nbformat": 4
 },
 "nbformat": 4,
 "nbformat_minor": 2
}
